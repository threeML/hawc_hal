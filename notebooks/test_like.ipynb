{
 "cells": [
  {
   "cell_type": "code",
   "execution_count": 1,
   "metadata": {},
   "outputs": [
    {
     "data": {
      "text/html": [
       "<pre style=\"white-space:pre;overflow-x:auto;line-height:normal;font-family:Menlo,'DejaVu Sans Mono',consolas,'Courier New',monospace\"><span style=\"color: #00ff00; text-decoration-color: #00ff00\">10:05:30 </span><span style=\"color: #af5fd7; text-decoration-color: #af5fd7\">WARNING </span> <span style=\"color: #c6c6c6; text-decoration-color: #c6c6c6; font-weight: bold\"> The naima package is not available. Models that depend on it will not be         </span><a href=\"file:///Users/omodei/GRBWorkDir/MY_PYTHON_MODULES/gitrepository/astromodels/astromodels/functions/functions_1D/functions.py\" target=\"_blank\"><span style=\"color: #7f7f7f; text-decoration-color: #7f7f7f\">functions.py</span></a><span style=\"color: #7f7f7f; text-decoration-color: #7f7f7f\">:</span><a href=\"file:///Users/omodei/GRBWorkDir/MY_PYTHON_MODULES/gitrepository/astromodels/astromodels/functions/functions_1D/functions.py#48\" target=\"_blank\"><span style=\"color: #7f7f7f; text-decoration-color: #7f7f7f\">48</span></a>\n",
       "<span style=\"color: #00ff00; text-decoration-color: #00ff00\">         </span>         <span style=\"color: #c6c6c6; text-decoration-color: #c6c6c6; font-weight: bold\">available                                                                         </span><span style=\"color: #7f7f7f; text-decoration-color: #7f7f7f\">               </span>\n",
       "</pre>\n"
      ],
      "text/plain": [
       "\u001b[38;5;46m10:05:30\u001b[0m\u001b[38;5;46m \u001b[0m\u001b[38;5;134mWARNING \u001b[0m \u001b[1;38;5;251m The naima package is not available. Models that depend on it will not be        \u001b[0m\u001b[1;38;5;251m \u001b[0m\u001b]8;id=185843;file:///Users/omodei/GRBWorkDir/MY_PYTHON_MODULES/gitrepository/astromodels/astromodels/functions/functions_1D/functions.py\u001b\\\u001b[2mfunctions.py\u001b[0m\u001b]8;;\u001b\\\u001b[2m:\u001b[0m\u001b]8;id=207877;file:///Users/omodei/GRBWorkDir/MY_PYTHON_MODULES/gitrepository/astromodels/astromodels/functions/functions_1D/functions.py#48\u001b\\\u001b[2m48\u001b[0m\u001b]8;;\u001b\\\n",
       "\u001b[38;5;46m         \u001b[0m         \u001b[1;38;5;251mavailable                                                                        \u001b[0m\u001b[1;38;5;251m \u001b[0m\u001b[2m               \u001b[0m\n"
      ]
     },
     "metadata": {},
     "output_type": "display_data"
    },
    {
     "data": {
      "text/html": [
       "<pre style=\"white-space:pre;overflow-x:auto;line-height:normal;font-family:Menlo,'DejaVu Sans Mono',consolas,'Courier New',monospace\"><span style=\"color: #00ff00; text-decoration-color: #00ff00\">         </span><span style=\"color: #af5fd7; text-decoration-color: #af5fd7\">WARNING </span> <span style=\"color: #c6c6c6; text-decoration-color: #c6c6c6; font-weight: bold\"> The GSL library or the pygsl wrapper cannot be loaded. Models that depend on it  </span><a href=\"file:///Users/omodei/GRBWorkDir/MY_PYTHON_MODULES/gitrepository/astromodels/astromodels/functions/functions_1D/functions.py\" target=\"_blank\"><span style=\"color: #7f7f7f; text-decoration-color: #7f7f7f\">functions.py</span></a><span style=\"color: #7f7f7f; text-decoration-color: #7f7f7f\">:</span><a href=\"file:///Users/omodei/GRBWorkDir/MY_PYTHON_MODULES/gitrepository/astromodels/astromodels/functions/functions_1D/functions.py#69\" target=\"_blank\"><span style=\"color: #7f7f7f; text-decoration-color: #7f7f7f\">69</span></a>\n",
       "<span style=\"color: #00ff00; text-decoration-color: #00ff00\">         </span>         <span style=\"color: #c6c6c6; text-decoration-color: #c6c6c6; font-weight: bold\">will not be available.                                                            </span><span style=\"color: #7f7f7f; text-decoration-color: #7f7f7f\">               </span>\n",
       "</pre>\n"
      ],
      "text/plain": [
       "\u001b[38;5;46m        \u001b[0m\u001b[38;5;46m \u001b[0m\u001b[38;5;134mWARNING \u001b[0m \u001b[1;38;5;251m The GSL library or the pygsl wrapper cannot be loaded. Models that depend on it \u001b[0m\u001b[1;38;5;251m \u001b[0m\u001b]8;id=398295;file:///Users/omodei/GRBWorkDir/MY_PYTHON_MODULES/gitrepository/astromodels/astromodels/functions/functions_1D/functions.py\u001b\\\u001b[2mfunctions.py\u001b[0m\u001b]8;;\u001b\\\u001b[2m:\u001b[0m\u001b]8;id=596684;file:///Users/omodei/GRBWorkDir/MY_PYTHON_MODULES/gitrepository/astromodels/astromodels/functions/functions_1D/functions.py#69\u001b\\\u001b[2m69\u001b[0m\u001b]8;;\u001b\\\n",
       "\u001b[38;5;46m         \u001b[0m         \u001b[1;38;5;251mwill not be available.                                                           \u001b[0m\u001b[1;38;5;251m \u001b[0m\u001b[2m               \u001b[0m\n"
      ]
     },
     "metadata": {},
     "output_type": "display_data"
    },
    {
     "name": "stderr",
     "output_type": "stream",
     "text": [
      "/Users/omodei/miniconda3/envs/hawc_3.9/lib/python3.9/site-packages/numba/core/decorators.py:262: NumbaDeprecationWarning: \u001b[1mnumba.generated_jit is deprecated. Please see the documentation at: https://numba.readthedocs.io/en/stable/reference/deprecation.html#deprecation-of-generated-jit for more information and advice on a suitable replacement.\u001b[0m\n",
      "  warnings.warn(msg, NumbaDeprecationWarning)\n"
     ]
    },
    {
     "data": {
      "text/html": [
       "<pre style=\"white-space:pre;overflow-x:auto;line-height:normal;font-family:Menlo,'DejaVu Sans Mono',consolas,'Courier New',monospace\"><span style=\"color: #00ff00; text-decoration-color: #00ff00\">10:05:31 </span><span style=\"color: #af5fd7; text-decoration-color: #af5fd7\">WARNING </span> <span style=\"color: #c6c6c6; text-decoration-color: #c6c6c6; font-weight: bold\"> The ebltable package is not available. Models that depend on it will not be     </span><a href=\"file:///Users/omodei/GRBWorkDir/MY_PYTHON_MODULES/gitrepository/astromodels/astromodels/functions/functions_1D/absorption.py\" target=\"_blank\"><span style=\"color: #7f7f7f; text-decoration-color: #7f7f7f\">absorption.py</span></a><span style=\"color: #7f7f7f; text-decoration-color: #7f7f7f\">:</span><a href=\"file:///Users/omodei/GRBWorkDir/MY_PYTHON_MODULES/gitrepository/astromodels/astromodels/functions/functions_1D/absorption.py#33\" target=\"_blank\"><span style=\"color: #7f7f7f; text-decoration-color: #7f7f7f\">33</span></a>\n",
       "<span style=\"color: #00ff00; text-decoration-color: #00ff00\">         </span>         <span style=\"color: #c6c6c6; text-decoration-color: #c6c6c6; font-weight: bold\">available                                                                        </span><span style=\"color: #7f7f7f; text-decoration-color: #7f7f7f\">                </span>\n",
       "</pre>\n"
      ],
      "text/plain": [
       "\u001b[38;5;46m10:05:31\u001b[0m\u001b[38;5;46m \u001b[0m\u001b[38;5;134mWARNING \u001b[0m \u001b[1;38;5;251m The ebltable package is not available. Models that depend on it will not be    \u001b[0m\u001b[1;38;5;251m \u001b[0m\u001b]8;id=265179;file:///Users/omodei/GRBWorkDir/MY_PYTHON_MODULES/gitrepository/astromodels/astromodels/functions/functions_1D/absorption.py\u001b\\\u001b[2mabsorption.py\u001b[0m\u001b]8;;\u001b\\\u001b[2m:\u001b[0m\u001b]8;id=682990;file:///Users/omodei/GRBWorkDir/MY_PYTHON_MODULES/gitrepository/astromodels/astromodels/functions/functions_1D/absorption.py#33\u001b\\\u001b[2m33\u001b[0m\u001b]8;;\u001b\\\n",
       "\u001b[38;5;46m         \u001b[0m         \u001b[1;38;5;251mavailable                                                                       \u001b[0m\u001b[1;38;5;251m \u001b[0m\u001b[2m                \u001b[0m\n"
      ]
     },
     "metadata": {},
     "output_type": "display_data"
    },
    {
     "name": "stderr",
     "output_type": "stream",
     "text": [
      "/Users/omodei/miniconda3/envs/hawc_3.9/lib/python3.9/site-packages/numba/core/decorators.py:262: NumbaDeprecationWarning: \u001b[1mnumba.generated_jit is deprecated. Please see the documentation at: https://numba.readthedocs.io/en/stable/reference/deprecation.html#deprecation-of-generated-jit for more information and advice on a suitable replacement.\u001b[0m\n",
      "  warnings.warn(msg, NumbaDeprecationWarning)\n"
     ]
    }
   ],
   "source": [
    "from threeML import *\n",
    "\n",
    "from hawc_hal import HAL, HealpixConeROI\n",
    "\n",
    "import os\n",
    "\n",
    "os.environ['OMP_NUM_THREADS'] = \"1\"\n",
    "os.environ['MKL_NUM_THREADS'] = \"1\"\n",
    "\n",
    "%matplotlib notebook"
   ]
  },
  {
   "cell_type": "code",
   "execution_count": 2,
   "metadata": {},
   "outputs": [
    {
     "name": "stdout",
     "output_type": "stream",
     "text": [
      "Creating singleton for /home/giacomov/science/hawc/data/response.root\n",
      "Region of Interest: \n",
      "--------------------\n",
      "\n",
      "HealpixConeROI: Center (R.A., Dec) = (83.633, 22.015), data radius = 3.000 deg, model radius: 12.000 deg\n",
      "\n",
      "Flat sky projection: \n",
      "----------------------\n",
      "\n",
      "Width x height: 142 x 142 px\n",
      "Pixel sizes: 0.17 deg\n",
      "\n",
      "Response: \n",
      "----------\n",
      "\n",
      "Response file: /home/giacomov/science/hawc/data/response.root\n",
      "Number of dec bins: 106\n",
      "Number of energy/nHit planes per dec bin_name: 10\n",
      "\n",
      "Map Tree: \n",
      "----------\n",
      "\n"
     ]
    },
    {
     "data": {
      "text/html": [
       "<div>\n",
       "<style scoped>\n",
       "    .dataframe tbody tr th:only-of-type {\n",
       "        vertical-align: middle;\n",
       "    }\n",
       "\n",
       "    .dataframe tbody tr th {\n",
       "        vertical-align: top;\n",
       "    }\n",
       "\n",
       "    .dataframe thead th {\n",
       "        text-align: right;\n",
       "    }\n",
       "</style>\n",
       "<table border=\"1\" class=\"dataframe\">\n",
       "  <thead>\n",
       "    <tr style=\"text-align: right;\">\n",
       "      <th></th>\n",
       "      <th>Bin</th>\n",
       "      <th>Nside</th>\n",
       "      <th>Scheme</th>\n",
       "      <th>Obs counts</th>\n",
       "      <th>Bkg counts</th>\n",
       "      <th>obs/bkg</th>\n",
       "      <th>Pixels in ROI</th>\n",
       "      <th>Area (deg^2)</th>\n",
       "    </tr>\n",
       "  </thead>\n",
       "  <tbody>\n",
       "    <tr>\n",
       "      <th>0</th>\n",
       "      <td>0</td>\n",
       "      <td>1024</td>\n",
       "      <td>RING</td>\n",
       "      <td>964234222.0</td>\n",
       "      <td>9.640280e+08</td>\n",
       "      <td>1.000214</td>\n",
       "      <td>8627</td>\n",
       "      <td>28.28354</td>\n",
       "    </tr>\n",
       "    <tr>\n",
       "      <th>1</th>\n",
       "      <td>1</td>\n",
       "      <td>1024</td>\n",
       "      <td>RING</td>\n",
       "      <td>63464148.0</td>\n",
       "      <td>6.338158e+07</td>\n",
       "      <td>1.001303</td>\n",
       "      <td>8627</td>\n",
       "      <td>28.28354</td>\n",
       "    </tr>\n",
       "    <tr>\n",
       "      <th>2</th>\n",
       "      <td>2</td>\n",
       "      <td>1024</td>\n",
       "      <td>RING</td>\n",
       "      <td>20357059.0</td>\n",
       "      <td>2.029720e+07</td>\n",
       "      <td>1.002949</td>\n",
       "      <td>8627</td>\n",
       "      <td>28.28354</td>\n",
       "    </tr>\n",
       "    <tr>\n",
       "      <th>3</th>\n",
       "      <td>3</td>\n",
       "      <td>1024</td>\n",
       "      <td>RING</td>\n",
       "      <td>5589697.0</td>\n",
       "      <td>5.554641e+06</td>\n",
       "      <td>1.006311</td>\n",
       "      <td>8627</td>\n",
       "      <td>28.28354</td>\n",
       "    </tr>\n",
       "    <tr>\n",
       "      <th>4</th>\n",
       "      <td>4</td>\n",
       "      <td>1024</td>\n",
       "      <td>RING</td>\n",
       "      <td>719476.0</td>\n",
       "      <td>7.072707e+05</td>\n",
       "      <td>1.017257</td>\n",
       "      <td>8627</td>\n",
       "      <td>28.28354</td>\n",
       "    </tr>\n",
       "    <tr>\n",
       "      <th>5</th>\n",
       "      <td>5</td>\n",
       "      <td>1024</td>\n",
       "      <td>RING</td>\n",
       "      <td>162229.0</td>\n",
       "      <td>1.559630e+05</td>\n",
       "      <td>1.040176</td>\n",
       "      <td>8627</td>\n",
       "      <td>28.28354</td>\n",
       "    </tr>\n",
       "    <tr>\n",
       "      <th>6</th>\n",
       "      <td>6</td>\n",
       "      <td>1024</td>\n",
       "      <td>RING</td>\n",
       "      <td>30084.0</td>\n",
       "      <td>2.797803e+04</td>\n",
       "      <td>1.075272</td>\n",
       "      <td>8627</td>\n",
       "      <td>28.28354</td>\n",
       "    </tr>\n",
       "    <tr>\n",
       "      <th>7</th>\n",
       "      <td>7</td>\n",
       "      <td>1024</td>\n",
       "      <td>RING</td>\n",
       "      <td>17787.0</td>\n",
       "      <td>1.656240e+04</td>\n",
       "      <td>1.073938</td>\n",
       "      <td>8627</td>\n",
       "      <td>28.28354</td>\n",
       "    </tr>\n",
       "    <tr>\n",
       "      <th>8</th>\n",
       "      <td>8</td>\n",
       "      <td>1024</td>\n",
       "      <td>RING</td>\n",
       "      <td>4909.0</td>\n",
       "      <td>4.454568e+03</td>\n",
       "      <td>1.102015</td>\n",
       "      <td>8627</td>\n",
       "      <td>28.28354</td>\n",
       "    </tr>\n",
       "    <tr>\n",
       "      <th>9</th>\n",
       "      <td>9</td>\n",
       "      <td>1024</td>\n",
       "      <td>RING</td>\n",
       "      <td>6607.0</td>\n",
       "      <td>6.144495e+03</td>\n",
       "      <td>1.075271</td>\n",
       "      <td>8627</td>\n",
       "      <td>28.28354</td>\n",
       "    </tr>\n",
       "  </tbody>\n",
       "</table>\n",
       "</div>"
      ],
      "text/plain": [
       "  Bin  Nside Scheme   Obs counts    Bkg counts   obs/bkg  Pixels in ROI  \\\n",
       "0   0   1024   RING  964234222.0  9.640280e+08  1.000214           8627   \n",
       "1   1   1024   RING   63464148.0  6.338158e+07  1.001303           8627   \n",
       "2   2   1024   RING   20357059.0  2.029720e+07  1.002949           8627   \n",
       "3   3   1024   RING    5589697.0  5.554641e+06  1.006311           8627   \n",
       "4   4   1024   RING     719476.0  7.072707e+05  1.017257           8627   \n",
       "5   5   1024   RING     162229.0  1.559630e+05  1.040176           8627   \n",
       "6   6   1024   RING      30084.0  2.797803e+04  1.075272           8627   \n",
       "7   7   1024   RING      17787.0  1.656240e+04  1.073938           8627   \n",
       "8   8   1024   RING       4909.0  4.454568e+03  1.102015           8627   \n",
       "9   9   1024   RING       6607.0  6.144495e+03  1.075271           8627   \n",
       "\n",
       "   Area (deg^2)  \n",
       "0      28.28354  \n",
       "1      28.28354  \n",
       "2      28.28354  \n",
       "3      28.28354  \n",
       "4      28.28354  \n",
       "5      28.28354  \n",
       "6      28.28354  \n",
       "7      28.28354  \n",
       "8      28.28354  \n",
       "9      28.28354  "
      ]
     },
     "metadata": {},
     "output_type": "display_data"
    },
    {
     "name": "stdout",
     "output_type": "stream",
     "text": [
      "This Map Tree contains 1017.288 transits in the first bin\n",
      "Total data size: 1.38 Mb\n",
      "\n",
      "Active energy/nHit planes: \n",
      "---------------------------\n",
      "\n",
      "[1, 2, 3, 4, 5, 6, 7, 8, 9]\n"
     ]
    }
   ],
   "source": [
    "ra_crab, dec_crab = 83.633083, 22.014500\n",
    "\n",
    "roi = HealpixConeROI(3.0, 12.0, ra=ra_crab, dec=dec_crab)\n",
    "\n",
    "hawc = HAL(\"HAWC\", \n",
    "                  \"/home/giacomov/science/hawc/data/maptree_1024.root\", \n",
    "                  \"/home/giacomov/science/hawc/data/response.root\",\n",
    "                  roi)\n",
    "\n",
    "hawc.set_active_measurements(1, 9)\n",
    "\n",
    "hawc.display()"
   ]
  },
  {
   "cell_type": "code",
   "execution_count": 3,
   "metadata": {},
   "outputs": [],
   "source": [
    "spectrum = Log_parabola()\n",
    "\n",
    "source = PointSource(\"CrabNebula\", ra=ra_crab, dec=dec_crab, spectral_shape=spectrum)\n",
    "\n",
    "# NOTE: if you use units, you have to set up the values for the parameters\n",
    "# AFTER you create the source, because during creation the function Log_parabola\n",
    "# gets its units\n",
    "\n",
    "source.position.ra.bounds = (ra_crab - 0.5, ra_crab + 0.5)\n",
    "source.position.dec.bounds = (dec_crab - 0.5, dec_crab + 0.5)\n",
    "\n",
    "spectrum.piv = 10 * u.TeV  # Pivot energy\n",
    "spectrum.piv.fix = True\n",
    "\n",
    "spectrum.K = 1e-14 / (u.TeV * u.cm**2 * u.s)  # norm (in 1/(keV cm2 s))\n",
    "spectrum.K.bounds = (1e-25, 1e-19) # without units energies are in keV\n",
    "\n",
    "spectrum.beta = 0  # log parabolic beta\n",
    "spectrum.beta.bounds = (-4., 2.)\n",
    "\n",
    "spectrum.alpha = -2.5  # log parabolic alpha (index)\n",
    "spectrum.alpha.bounds = (-4., 2.)\n",
    "\n",
    "model = Model(source)\n",
    "\n",
    "data = DataList(hawc)"
   ]
  },
  {
   "cell_type": "code",
   "execution_count": 4,
   "metadata": {},
   "outputs": [],
   "source": [
    "jl = JointLikelihood(model, data, verbose=False)"
   ]
  },
  {
   "cell_type": "code",
   "execution_count": 5,
   "metadata": {
    "scrolled": true
   },
   "outputs": [
    {
     "name": "stdout",
     "output_type": "stream",
     "text": [
      "Best fit values:\n",
      "\n"
     ]
    },
    {
     "name": "stderr",
     "output_type": "stream",
     "text": [
      "\n",
      "WARNING FutureWarning: from_items is deprecated. Please use DataFrame.from_dict(dict(items), ...) instead. DataFrame.from_dict(OrderedDict(items)) may be used to preserve the key order.\n",
      "\n"
     ]
    },
    {
     "data": {
      "text/html": [
       "<div>\n",
       "<style scoped>\n",
       "    .dataframe tbody tr th:only-of-type {\n",
       "        vertical-align: middle;\n",
       "    }\n",
       "\n",
       "    .dataframe tbody tr th {\n",
       "        vertical-align: top;\n",
       "    }\n",
       "\n",
       "    .dataframe thead th {\n",
       "        text-align: right;\n",
       "    }\n",
       "</style>\n",
       "<table border=\"1\" class=\"dataframe\">\n",
       "  <thead>\n",
       "    <tr style=\"text-align: right;\">\n",
       "      <th></th>\n",
       "      <th>result</th>\n",
       "      <th>unit</th>\n",
       "    </tr>\n",
       "    <tr>\n",
       "      <th>parameter</th>\n",
       "      <th></th>\n",
       "      <th></th>\n",
       "    </tr>\n",
       "  </thead>\n",
       "  <tbody>\n",
       "    <tr>\n",
       "      <th>CrabNebula.spectrum.main.Log_parabola.K</th>\n",
       "      <td>(1.044 -0.017 +0.018) x 10^-22</td>\n",
       "      <td>1 / (cm2 keV s)</td>\n",
       "    </tr>\n",
       "    <tr>\n",
       "      <th>CrabNebula.spectrum.main.Log_parabola.alpha</th>\n",
       "      <td>-2.791 +/- 0.020</td>\n",
       "      <td></td>\n",
       "    </tr>\n",
       "    <tr>\n",
       "      <th>CrabNebula.spectrum.main.Log_parabola.beta</th>\n",
       "      <td>(1.720 +/- 0.12) x 10^-1</td>\n",
       "      <td></td>\n",
       "    </tr>\n",
       "  </tbody>\n",
       "</table>\n",
       "</div>"
      ],
      "text/plain": [
       "                                                                     result  \\\n",
       "parameter                                                                     \n",
       "CrabNebula.spectrum.main.Log_parabola.K      (1.044 -0.017 +0.018) x 10^-22   \n",
       "CrabNebula.spectrum.main.Log_parabola.alpha                -2.791 +/- 0.020   \n",
       "CrabNebula.spectrum.main.Log_parabola.beta         (1.720 +/- 0.12) x 10^-1   \n",
       "\n",
       "                                                        unit  \n",
       "parameter                                                     \n",
       "CrabNebula.spectrum.main.Log_parabola.K      1 / (cm2 keV s)  \n",
       "CrabNebula.spectrum.main.Log_parabola.alpha                   \n",
       "CrabNebula.spectrum.main.Log_parabola.beta                    "
      ]
     },
     "metadata": {},
     "output_type": "display_data"
    },
    {
     "name": "stdout",
     "output_type": "stream",
     "text": [
      "\n",
      "Correlation matrix:\n",
      "\n"
     ]
    },
    {
     "data": {
      "text/html": [
       "<table id=\"table140026022180048\">\n",
       "<tr><td>1.00</td><td>-0.17</td><td>0.67</td></tr>\n",
       "<tr><td>-0.17</td><td>1.00</td><td>-0.77</td></tr>\n",
       "<tr><td>0.67</td><td>-0.77</td><td>1.00</td></tr>\n",
       "</table>"
      ],
      "text/plain": [
       " 1.00 -0.17  0.67\n",
       "-0.17  1.00 -0.77\n",
       " 0.67 -0.77  1.00"
      ]
     },
     "metadata": {},
     "output_type": "display_data"
    },
    {
     "name": "stdout",
     "output_type": "stream",
     "text": [
      "\n",
      "Values of -log(likelihood) at the minimum:\n",
      "\n"
     ]
    },
    {
     "data": {
      "text/html": [
       "<div>\n",
       "<style scoped>\n",
       "    .dataframe tbody tr th:only-of-type {\n",
       "        vertical-align: middle;\n",
       "    }\n",
       "\n",
       "    .dataframe tbody tr th {\n",
       "        vertical-align: top;\n",
       "    }\n",
       "\n",
       "    .dataframe thead th {\n",
       "        text-align: right;\n",
       "    }\n",
       "</style>\n",
       "<table border=\"1\" class=\"dataframe\">\n",
       "  <thead>\n",
       "    <tr style=\"text-align: right;\">\n",
       "      <th></th>\n",
       "      <th>-log(likelihood)</th>\n",
       "    </tr>\n",
       "  </thead>\n",
       "  <tbody>\n",
       "    <tr>\n",
       "      <th>HAWC</th>\n",
       "      <td>20257.502536</td>\n",
       "    </tr>\n",
       "    <tr>\n",
       "      <th>total</th>\n",
       "      <td>20257.502536</td>\n",
       "    </tr>\n",
       "  </tbody>\n",
       "</table>\n",
       "</div>"
      ],
      "text/plain": [
       "       -log(likelihood)\n",
       "HAWC       20257.502536\n",
       "total      20257.502536"
      ]
     },
     "metadata": {},
     "output_type": "display_data"
    },
    {
     "name": "stdout",
     "output_type": "stream",
     "text": [
      "\n",
      "Values of statistical measures:\n",
      "\n"
     ]
    },
    {
     "data": {
      "text/html": [
       "<div>\n",
       "<style scoped>\n",
       "    .dataframe tbody tr th:only-of-type {\n",
       "        vertical-align: middle;\n",
       "    }\n",
       "\n",
       "    .dataframe tbody tr th {\n",
       "        vertical-align: top;\n",
       "    }\n",
       "\n",
       "    .dataframe thead th {\n",
       "        text-align: right;\n",
       "    }\n",
       "</style>\n",
       "<table border=\"1\" class=\"dataframe\">\n",
       "  <thead>\n",
       "    <tr style=\"text-align: right;\">\n",
       "      <th></th>\n",
       "      <th>statistical measures</th>\n",
       "    </tr>\n",
       "  </thead>\n",
       "  <tbody>\n",
       "    <tr>\n",
       "      <th>AIC</th>\n",
       "      <td>40521.005350</td>\n",
       "    </tr>\n",
       "    <tr>\n",
       "      <th>BIC</th>\n",
       "      <td>40549.100783</td>\n",
       "    </tr>\n",
       "  </tbody>\n",
       "</table>\n",
       "</div>"
      ],
      "text/plain": [
       "     statistical measures\n",
       "AIC          40521.005350\n",
       "BIC          40549.100783"
      ]
     },
     "metadata": {},
     "output_type": "display_data"
    },
    {
     "name": "stdout",
     "output_type": "stream",
     "text": [
      " "
     ]
    }
   ],
   "source": [
    "jl.set_minimizer(\"minuit\")\n",
    "#%lprun -f FlatSkyToHealpixTransform.__call__ \n",
    "#%lprun -f hawc.get_log_like _ = jl.fit(quiet=False)\n",
    "\n",
    "%prun _ = jl.fit()\n",
    "\n",
    "# 12 s\n",
    "\n",
    "# CrabNebula.spectrum.main.Log_parabola.K\t(1.044 +/- 0.017) x 10^-22\t1 / (cm2 keV s)\n",
    "# CrabNebula.spectrum.main.Log_parabola.alpha\t-2.807 +/- 0.018\t\n",
    "# CrabNebula.spectrum.main.Log_parabola.beta\t(1.750 +/- 0.11) x 10^-1"
   ]
  },
  {
   "cell_type": "code",
   "execution_count": 8,
   "metadata": {},
   "outputs": [],
   "source": [
    "gf = GoodnessOfFit(jl)"
   ]
  },
  {
   "cell_type": "code",
   "execution_count": 7,
   "metadata": {},
   "outputs": [],
   "source": [
    "%load_ext line_profiler"
   ]
  },
  {
   "cell_type": "code",
   "execution_count": 8,
   "metadata": {},
   "outputs": [],
   "source": [
    "from hawc_hal.convolved_source import ConvolvedPointSource\n",
    "from hawc_hal.response.response import HAWCResponse, ResponseBin\n",
    "from hawc_hal.psf_fast import PSFWrapper"
   ]
  },
  {
   "cell_type": "code",
   "execution_count": 9,
   "metadata": {},
   "outputs": [
    {
     "data": {
      "application/vnd.jupyter.widget-view+json": {
       "model_id": "84b84199251843438d6e44a798c55238",
       "version_major": 2,
       "version_minor": 0
      },
      "text/plain": [
       "VBox(children=(HTML(value=u'Goodness of fit computation : '), HTML(value=u''), FloatProgress(value=0.0)))"
      ]
     },
     "metadata": {},
     "output_type": "display_data"
    }
   ],
   "source": [
    "import cProfile\n",
    "command = \"\"\"gf.by_mc(100)\"\"\"\n",
    "cProfile.runctx( command, globals(), locals(), filename=\"profiling.profile\" )\n",
    "\n",
    "#%lprun -f PSFWrapper.__init__ gof, param, likes = gf.by_mc(10)"
   ]
  },
  {
   "cell_type": "code",
   "execution_count": 8,
   "metadata": {},
   "outputs": [],
   "source": [
    "#print(gof)\n",
    "#likes.plot()"
   ]
  },
  {
   "cell_type": "code",
   "execution_count": 9,
   "metadata": {},
   "outputs": [],
   "source": [
    "#param.loc[(slice(None), ['CrabNebula.spectrum.main.Log_parabola.alpha']), 'value'].plot()"
   ]
  },
  {
   "cell_type": "code",
   "execution_count": 10,
   "metadata": {},
   "outputs": [],
   "source": [
    "%load_ext line_profiler"
   ]
  },
  {
   "cell_type": "code",
   "execution_count": 10,
   "metadata": {},
   "outputs": [
    {
     "name": "stdout",
     "output_type": "stream",
     "text": [
      "Best fit values:\n",
      "\n"
     ]
    },
    {
     "data": {
      "text/html": [
       "<div>\n",
       "<style scoped>\n",
       "    .dataframe tbody tr th:only-of-type {\n",
       "        vertical-align: middle;\n",
       "    }\n",
       "\n",
       "    .dataframe tbody tr th {\n",
       "        vertical-align: top;\n",
       "    }\n",
       "\n",
       "    .dataframe thead th {\n",
       "        text-align: right;\n",
       "    }\n",
       "</style>\n",
       "<table border=\"1\" class=\"dataframe\">\n",
       "  <thead>\n",
       "    <tr style=\"text-align: right;\">\n",
       "      <th></th>\n",
       "      <th>result</th>\n",
       "      <th>unit</th>\n",
       "    </tr>\n",
       "    <tr>\n",
       "      <th>parameter</th>\n",
       "      <th></th>\n",
       "      <th></th>\n",
       "    </tr>\n",
       "  </thead>\n",
       "  <tbody>\n",
       "    <tr>\n",
       "      <th>CrabNebula.position.ra</th>\n",
       "      <td>(8.371 +/- 0.00035) x 10</td>\n",
       "      <td>deg</td>\n",
       "    </tr>\n",
       "    <tr>\n",
       "      <th>CrabNebula.position.dec</th>\n",
       "      <td>(2.196 +/- 0.0004) x 10</td>\n",
       "      <td>deg</td>\n",
       "    </tr>\n",
       "    <tr>\n",
       "      <th>CrabNebula.spectrum.main.Log_parabola.K</th>\n",
       "      <td>(1.075 +/- 0.018) x 10^-22</td>\n",
       "      <td>1 / (cm2 keV s)</td>\n",
       "    </tr>\n",
       "    <tr>\n",
       "      <th>CrabNebula.spectrum.main.Log_parabola.alpha</th>\n",
       "      <td>-2.795 +/- 0.019</td>\n",
       "      <td></td>\n",
       "    </tr>\n",
       "    <tr>\n",
       "      <th>CrabNebula.spectrum.main.Log_parabola.beta</th>\n",
       "      <td>(1.780 +/- 0.12) x 10^-1</td>\n",
       "      <td></td>\n",
       "    </tr>\n",
       "  </tbody>\n",
       "</table>\n",
       "</div>"
      ],
      "text/plain": [
       "                                                                 result  \\\n",
       "parameter                                                                 \n",
       "CrabNebula.position.ra                         (8.371 +/- 0.00035) x 10   \n",
       "CrabNebula.position.dec                         (2.196 +/- 0.0004) x 10   \n",
       "CrabNebula.spectrum.main.Log_parabola.K      (1.075 +/- 0.018) x 10^-22   \n",
       "CrabNebula.spectrum.main.Log_parabola.alpha            -2.795 +/- 0.019   \n",
       "CrabNebula.spectrum.main.Log_parabola.beta     (1.780 +/- 0.12) x 10^-1   \n",
       "\n",
       "                                                        unit  \n",
       "parameter                                                     \n",
       "CrabNebula.position.ra                                   deg  \n",
       "CrabNebula.position.dec                                  deg  \n",
       "CrabNebula.spectrum.main.Log_parabola.K      1 / (cm2 keV s)  \n",
       "CrabNebula.spectrum.main.Log_parabola.alpha                   \n",
       "CrabNebula.spectrum.main.Log_parabola.beta                    "
      ]
     },
     "metadata": {},
     "output_type": "display_data"
    },
    {
     "name": "stdout",
     "output_type": "stream",
     "text": [
      "\n",
      "Correlation matrix:\n",
      "\n"
     ]
    },
    {
     "data": {
      "text/html": [
       "<table id=\"table140218620644432\">\n",
       "<tr><td>1.00</td><td>0.60</td><td>-0.04</td><td>-0.03</td><td>0.01</td></tr>\n",
       "<tr><td>0.60</td><td>1.00</td><td>-0.05</td><td>-0.03</td><td>0.01</td></tr>\n",
       "<tr><td>-0.04</td><td>-0.05</td><td>1.00</td><td>-0.17</td><td>0.67</td></tr>\n",
       "<tr><td>-0.03</td><td>-0.03</td><td>-0.17</td><td>1.00</td><td>-0.77</td></tr>\n",
       "<tr><td>0.01</td><td>0.01</td><td>0.67</td><td>-0.77</td><td>1.00</td></tr>\n",
       "</table>"
      ],
      "text/plain": [
       " 1.00  0.60 -0.04 -0.03  0.01\n",
       " 0.60  1.00 -0.05 -0.03  0.01\n",
       "-0.04 -0.05  1.00 -0.17  0.67\n",
       "-0.03 -0.03 -0.17  1.00 -0.77\n",
       " 0.01  0.01  0.67 -0.77  1.00"
      ]
     },
     "metadata": {},
     "output_type": "display_data"
    },
    {
     "name": "stdout",
     "output_type": "stream",
     "text": [
      "\n",
      "Values of -log(likelihood) at the minimum:\n",
      "\n"
     ]
    },
    {
     "data": {
      "text/html": [
       "<div>\n",
       "<style scoped>\n",
       "    .dataframe tbody tr th:only-of-type {\n",
       "        vertical-align: middle;\n",
       "    }\n",
       "\n",
       "    .dataframe tbody tr th {\n",
       "        vertical-align: top;\n",
       "    }\n",
       "\n",
       "    .dataframe thead th {\n",
       "        text-align: right;\n",
       "    }\n",
       "</style>\n",
       "<table border=\"1\" class=\"dataframe\">\n",
       "  <thead>\n",
       "    <tr style=\"text-align: right;\">\n",
       "      <th></th>\n",
       "      <th>-log(likelihood)</th>\n",
       "    </tr>\n",
       "  </thead>\n",
       "  <tbody>\n",
       "    <tr>\n",
       "      <th>HAWC</th>\n",
       "      <td>19568.932327</td>\n",
       "    </tr>\n",
       "    <tr>\n",
       "      <th>total</th>\n",
       "      <td>19568.932327</td>\n",
       "    </tr>\n",
       "  </tbody>\n",
       "</table>\n",
       "</div>"
      ],
      "text/plain": [
       "       -log(likelihood)\n",
       "HAWC       19568.932327\n",
       "total      19568.932327"
      ]
     },
     "metadata": {},
     "output_type": "display_data"
    },
    {
     "name": "stdout",
     "output_type": "stream",
     "text": [
      "\n",
      "Values of statistical measures:\n",
      "\n"
     ]
    },
    {
     "data": {
      "text/html": [
       "<div>\n",
       "<style scoped>\n",
       "    .dataframe tbody tr th:only-of-type {\n",
       "        vertical-align: middle;\n",
       "    }\n",
       "\n",
       "    .dataframe tbody tr th {\n",
       "        vertical-align: top;\n",
       "    }\n",
       "\n",
       "    .dataframe thead th {\n",
       "        text-align: right;\n",
       "    }\n",
       "</style>\n",
       "<table border=\"1\" class=\"dataframe\">\n",
       "  <thead>\n",
       "    <tr style=\"text-align: right;\">\n",
       "      <th></th>\n",
       "      <th>statistical measures</th>\n",
       "    </tr>\n",
       "  </thead>\n",
       "  <tbody>\n",
       "    <tr>\n",
       "      <th>AIC</th>\n",
       "      <td>39147.865349</td>\n",
       "    </tr>\n",
       "    <tr>\n",
       "      <th>BIC</th>\n",
       "      <td>39194.690839</td>\n",
       "    </tr>\n",
       "  </tbody>\n",
       "</table>\n",
       "</div>"
      ],
      "text/plain": [
       "     statistical measures\n",
       "AIC          39147.865349\n",
       "BIC          39194.690839"
      ]
     },
     "metadata": {},
     "output_type": "display_data"
    }
   ],
   "source": [
    "source.position.ra.free = True\n",
    "source.position.dec.free = True\n",
    "\n",
    "jl.set_minimizer(\"minuit\")\n",
    "\n",
    "command = \"\"\"jl.fit()\"\"\"\n",
    "cProfile.runctx( command, globals(), locals(), filename=\"freepos.profile\" )\n",
    "\n",
    "\n",
    "#best_fit, like_frame = jl.fit()\n",
    "\n",
    "# CrabNebula.position.ra\t(8.362 +/- 0.00026) x 10\tdeg\n",
    "# CrabNebula.position.dec\t(2.202 +/- 0.00024) x 10\tdeg\n",
    "# CrabNebula.spectrum.main.Log_parabola.K\t(9.970 +/- 0.17) x 10^-23\t1 / (cm2 keV s)\n",
    "# CrabNebula.spectrum.main.Log_parabola.alpha\t-2.798 +/- 0.021\t\n",
    "# CrabNebula.spectrum.main.Log_parabola.beta\t(1.590 +/- 0.13) x 10^-1"
   ]
  },
  {
   "cell_type": "code",
   "execution_count": null,
   "metadata": {},
   "outputs": [],
   "source": [
    "_ = jl.get_errors()\n",
    "\n",
    "# CrabNebula.position.ra\t(8.36201 -0.00027 +0.00026) x 10\tdeg\n",
    "# CrabNebula.position.dec\t(2.20206 -0.00025 +0.00023) x 10\tdeg\n",
    "# CrabNebula.spectrum.main.Log_parabola.K\t(1.010 +/- 0.017) x 10^-22\t1 / (cm2 keV s)\n",
    "# CrabNebula.spectrum.main.Log_parabola.alpha\t-2.797 +/- 0.019\t\n",
    "# CrabNebula.spectrum.main.Log_parabola.beta\t(1.630 +/- 0.11) x 10^-1"
   ]
  },
  {
   "cell_type": "code",
   "execution_count": 11,
   "metadata": {},
   "outputs": [
    {
     "data": {
      "application/vnd.jupyter.widget-view+json": {
       "model_id": "27c4bd25c07d4fcfa4747bd68b528837",
       "version_major": 2,
       "version_minor": 0
      },
      "text/plain": [
       "VBox(children=(HTML(value=u'Profiling likelihood : '), HTML(value=u''), FloatProgress(value=0.0)))"
      ]
     },
     "metadata": {},
     "output_type": "display_data"
    },
    {
     "name": "stdout",
     "output_type": "stream",
     "text": [
      " \n",
      "*** Profile stats marshalled to file u'contour.profile'. \n"
     ]
    },
    {
     "name": "stderr",
     "output_type": "stream",
     "text": [
      "\n",
      "WARNING UserWarning: No contour levels were found within the data range.\n",
      "\n"
     ]
    },
    {
     "data": {
      "text/plain": [
       "[<matplotlib.lines.Line2D at 0x7f872fb2a110>]"
      ]
     },
     "execution_count": 11,
     "metadata": {},
     "output_type": "execute_result"
    },
    {
     "data": {
      "image/png": "[encoded data removed]",
      "text/plain": [
       "<matplotlib.figure.Figure at 0x7f873184b150>"
      ]
     },
     "metadata": {},
     "output_type": "display_data"
    }
   ],
   "source": [
    "%prun -D contour.profile jl.get_contours(model.CrabNebula.position.ra, 83.610, 83.630, 16, model.CrabNebula.position.dec, 22.010, 22.030, 16)\n",
    "\n",
    "import matplotlib.pyplot as plt\n",
    "\n",
    "plt.plot([dec_crab], [ra_crab], 'x')\n",
    "\n",
    "# Parallel: 183.5\n",
    "\n",
    "# 225 / 225 in 249.2 s (0:00:00 remaining)"
   ]
  },
  {
   "cell_type": "code",
   "execution_count": null,
   "metadata": {},
   "outputs": [],
   "source": [
    "print spectrum(1.0 * u.TeV).to(1/(u.TeV * u.cm**2 * u.s))"
   ]
  },
  {
   "cell_type": "code",
   "execution_count": 6,
   "metadata": {},
   "outputs": [
    {
     "name": "stderr",
     "output_type": "stream",
     "text": [
      "\n",
      "WARNING RuntimeWarning: External parameter HAWC_bkg_renorm already exist in the model. Overwriting it...\n",
      "\n"
     ]
    },
    {
     "data": {
      "application/vnd.jupyter.widget-view+json": {
       "model_id": "a2a3884a69b7457ca19b3f4bd0b21217",
       "version_major": 2,
       "version_minor": 0
      },
      "text/plain": [
       "VBox(children=(HTML(value=u'Burn-in : '), HTML(value=u''), FloatProgress(value=0.0)))"
      ]
     },
     "metadata": {},
     "output_type": "display_data"
    },
    {
     "data": {
      "application/vnd.jupyter.widget-view+json": {
       "model_id": "5b517778ca084c7d948a2725268459a6",
       "version_major": 2,
       "version_minor": 0
      },
      "text/plain": [
       "VBox(children=(HTML(value=u'Sampling : '), HTML(value=u''), FloatProgress(value=0.0)))"
      ]
     },
     "metadata": {},
     "output_type": "display_data"
    },
    {
     "name": "stdout",
     "output_type": "stream",
     "text": [
      "\n",
      "Mean acceptance fraction: 0.37333333333333335\n",
      "\n",
      "Maximum a posteriori probability (MAP) point:\n",
      "\n"
     ]
    },
    {
     "data": {
      "text/html": [
       "<div>\n",
       "<style scoped>\n",
       "    .dataframe tbody tr th:only-of-type {\n",
       "        vertical-align: middle;\n",
       "    }\n",
       "\n",
       "    .dataframe tbody tr th {\n",
       "        vertical-align: top;\n",
       "    }\n",
       "\n",
       "    .dataframe thead th {\n",
       "        text-align: right;\n",
       "    }\n",
       "</style>\n",
       "<table border=\"1\" class=\"dataframe\">\n",
       "  <thead>\n",
       "    <tr style=\"text-align: right;\">\n",
       "      <th></th>\n",
       "      <th>result</th>\n",
       "      <th>unit</th>\n",
       "    </tr>\n",
       "    <tr>\n",
       "      <th>parameter</th>\n",
       "      <th></th>\n",
       "      <th></th>\n",
       "    </tr>\n",
       "  </thead>\n",
       "  <tbody>\n",
       "    <tr>\n",
       "      <th>CrabNebula.position.ra</th>\n",
       "      <td>(8.363 +/- 0.009) x 10</td>\n",
       "      <td>deg</td>\n",
       "    </tr>\n",
       "    <tr>\n",
       "      <th>CrabNebula.position.dec</th>\n",
       "      <td>(2.205 -0.009 +0.008) x 10</td>\n",
       "      <td>deg</td>\n",
       "    </tr>\n",
       "    <tr>\n",
       "      <th>CrabNebula.spectrum.main.Log_parabola.K</th>\n",
       "      <td>(1.00 -0.05 +0.04) x 10^-22</td>\n",
       "      <td>1 / (cm2 keV s)</td>\n",
       "    </tr>\n",
       "    <tr>\n",
       "      <th>CrabNebula.spectrum.main.Log_parabola.alpha</th>\n",
       "      <td>-2.85 -0.13 +0.12</td>\n",
       "      <td></td>\n",
       "    </tr>\n",
       "    <tr>\n",
       "      <th>CrabNebula.spectrum.main.Log_parabola.beta</th>\n",
       "      <td>(1.76 -0.14 +0.09) x 10^-1</td>\n",
       "      <td></td>\n",
       "    </tr>\n",
       "  </tbody>\n",
       "</table>\n",
       "</div>"
      ],
      "text/plain": [
       "                                                                  result  \\\n",
       "parameter                                                                  \n",
       "CrabNebula.position.ra                            (8.363 +/- 0.009) x 10   \n",
       "CrabNebula.position.dec                       (2.205 -0.009 +0.008) x 10   \n",
       "CrabNebula.spectrum.main.Log_parabola.K      (1.00 -0.05 +0.04) x 10^-22   \n",
       "CrabNebula.spectrum.main.Log_parabola.alpha            -2.85 -0.13 +0.12   \n",
       "CrabNebula.spectrum.main.Log_parabola.beta    (1.76 -0.14 +0.09) x 10^-1   \n",
       "\n",
       "                                                        unit  \n",
       "parameter                                                     \n",
       "CrabNebula.position.ra                                   deg  \n",
       "CrabNebula.position.dec                                  deg  \n",
       "CrabNebula.spectrum.main.Log_parabola.K      1 / (cm2 keV s)  \n",
       "CrabNebula.spectrum.main.Log_parabola.alpha                   \n",
       "CrabNebula.spectrum.main.Log_parabola.beta                    "
      ]
     },
     "metadata": {},
     "output_type": "display_data"
    },
    {
     "name": "stdout",
     "output_type": "stream",
     "text": [
      "\n",
      "Values of -log(posterior) at the minimum:\n",
      "\n"
     ]
    },
    {
     "data": {
      "text/html": [
       "<div>\n",
       "<style scoped>\n",
       "    .dataframe tbody tr th:only-of-type {\n",
       "        vertical-align: middle;\n",
       "    }\n",
       "\n",
       "    .dataframe tbody tr th {\n",
       "        vertical-align: top;\n",
       "    }\n",
       "\n",
       "    .dataframe thead th {\n",
       "        text-align: right;\n",
       "    }\n",
       "</style>\n",
       "<table border=\"1\" class=\"dataframe\">\n",
       "  <thead>\n",
       "    <tr style=\"text-align: right;\">\n",
       "      <th></th>\n",
       "      <th>-log(posterior)</th>\n",
       "    </tr>\n",
       "  </thead>\n",
       "  <tbody>\n",
       "    <tr>\n",
       "      <th>HAWC</th>\n",
       "      <td>-19579.855146</td>\n",
       "    </tr>\n",
       "    <tr>\n",
       "      <th>total</th>\n",
       "      <td>-19579.855146</td>\n",
       "    </tr>\n",
       "  </tbody>\n",
       "</table>\n",
       "</div>"
      ],
      "text/plain": [
       "       -log(posterior)\n",
       "HAWC     -19579.855146\n",
       "total    -19579.855146"
      ]
     },
     "metadata": {},
     "output_type": "display_data"
    },
    {
     "name": "stdout",
     "output_type": "stream",
     "text": [
      "\n",
      "Values of statistical measures:\n",
      "\n"
     ]
    },
    {
     "data": {
      "text/html": [
       "<div>\n",
       "<style scoped>\n",
       "    .dataframe tbody tr th:only-of-type {\n",
       "        vertical-align: middle;\n",
       "    }\n",
       "\n",
       "    .dataframe tbody tr th {\n",
       "        vertical-align: top;\n",
       "    }\n",
       "\n",
       "    .dataframe thead th {\n",
       "        text-align: right;\n",
       "    }\n",
       "</style>\n",
       "<table border=\"1\" class=\"dataframe\">\n",
       "  <thead>\n",
       "    <tr style=\"text-align: right;\">\n",
       "      <th></th>\n",
       "      <th>statistical measures</th>\n",
       "    </tr>\n",
       "  </thead>\n",
       "  <tbody>\n",
       "    <tr>\n",
       "      <th>AIC</th>\n",
       "      <td>39169.710987</td>\n",
       "    </tr>\n",
       "    <tr>\n",
       "      <th>BIC</th>\n",
       "      <td>39216.536478</td>\n",
       "    </tr>\n",
       "    <tr>\n",
       "      <th>DIC</th>\n",
       "      <td>46104.965950</td>\n",
       "    </tr>\n",
       "    <tr>\n",
       "      <th>PDIC</th>\n",
       "      <td>2373.982072</td>\n",
       "    </tr>\n",
       "  </tbody>\n",
       "</table>\n",
       "</div>"
      ],
      "text/plain": [
       "      statistical measures\n",
       "AIC           39169.710987\n",
       "BIC           39216.536478\n",
       "DIC           46104.965950\n",
       "PDIC           2373.982072"
      ]
     },
     "metadata": {},
     "output_type": "display_data"
    },
    {
     "name": "stdout",
     "output_type": "stream",
     "text": [
      " \n",
      "*** Profile stats marshalled to file u'bayes.profile'. \n"
     ]
    }
   ],
   "source": [
    "source.position.ra = ra_crab\n",
    "source.position.ra.free = True\n",
    "\n",
    "source.position.dec = dec_crab\n",
    "source.position.dec.free = True\n",
    "\n",
    "for parameter in model.parameters.values():\n",
    "    \n",
    "    if parameter.fix:\n",
    "        \n",
    "        continue\n",
    "    \n",
    "    if parameter.is_normalization:\n",
    "    \n",
    "        parameter.set_uninformative_prior(Log_uniform_prior)\n",
    "    \n",
    "    else:\n",
    "        \n",
    "        parameter.set_uninformative_prior(Uniform_prior)\n",
    "\n",
    "bs = BayesianAnalysis(model, data)\n",
    "\n",
    "%prun -D bayes.profile bs.sample(30, 10, 10)\n",
    "\n",
    "# 71.3\n",
    "# 38.3"
   ]
  },
  {
   "cell_type": "code",
   "execution_count": null,
   "metadata": {},
   "outputs": [],
   "source": [
    "_ = bs.corner_plot()"
   ]
  },
  {
   "cell_type": "code",
   "execution_count": null,
   "metadata": {},
   "outputs": [],
   "source": []
  }
 ],
 "metadata": {
  "kernelspec": {
   "display_name": "Python 3 (ipykernel)",
   "language": "python",
   "name": "python3"
  },
  "language_info": {
   "codemirror_mode": {
    "name": "ipython",
    "version": 3
   },
   "file_extension": ".py",
   "mimetype": "text/x-python",
   "name": "python",
   "nbconvert_exporter": "python",
   "pygments_lexer": "ipython3",
   "version": "3.9.19"
  }
 },
 "nbformat": 4,
 "nbformat_minor": 4
}
